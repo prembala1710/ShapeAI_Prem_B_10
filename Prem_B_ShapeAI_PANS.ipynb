{
  "nbformat": 4,
  "nbformat_minor": 0,
  "metadata": {
    "colab": {
      "name": "Python_And_Network_Security.ipynb",
      "provenance": []
    },
    "kernelspec": {
      "name": "python3",
      "display_name": "Python 3"
    },
    "language_info": {
      "name": "python"
    }
  },
  "cells": [
    {
      "cell_type": "markdown",
      "metadata": {
        "id": "bAsVnnXDa7he"
      },
      "source": [
        "**IMPORTING HASHLIB**"
      ]
    },
    {
      "cell_type": "code",
      "metadata": {
        "id": "eAhNZL2BYSyZ"
      },
      "source": [
        "import hashlib"
      ],
      "execution_count": 1,
      "outputs": []
    },
    {
      "cell_type": "markdown",
      "metadata": {
        "id": "3PQPcx6Ok5kf"
      },
      "source": [
        "**GETTING AVAILABLE ALGORITHMS:**"
      ]
    },
    {
      "cell_type": "code",
      "metadata": {
        "colab": {
          "base_uri": "https://localhost:8080/"
        },
        "id": "iBvDZ6_3bAeo",
        "outputId": "6c3ecd0b-bb28-4a16-bec0-dadfb8919bb7"
      },
      "source": [
        "hashlib.algorithms_available"
      ],
      "execution_count": 2,
      "outputs": [
        {
          "output_type": "execute_result",
          "data": {
            "text/plain": [
              "{'blake2b',\n",
              " 'blake2s',\n",
              " 'md5',\n",
              " 'sha1',\n",
              " 'sha224',\n",
              " 'sha256',\n",
              " 'sha384',\n",
              " 'sha3_224',\n",
              " 'sha3_256',\n",
              " 'sha3_384',\n",
              " 'sha3_512',\n",
              " 'sha512',\n",
              " 'shake_128',\n",
              " 'shake_256'}"
            ]
          },
          "metadata": {
            "tags": []
          },
          "execution_count": 2
        }
      ]
    },
    {
      "cell_type": "markdown",
      "metadata": {
        "id": "wAE91f-Glnyh"
      },
      "source": [
        "**1.)GENERATING MD5 ENCRYPTED TEXT:**"
      ]
    },
    {
      "cell_type": "code",
      "metadata": {
        "colab": {
          "base_uri": "https://localhost:8080/"
        },
        "id": "4M5j6BKFk4k0",
        "outputId": "8ec67de6-2449-43a0-fd6f-fed8055eb015"
      },
      "source": [
        "string_to_encode = input(\"Enter the String to be Encoded in MD5 Encryption:\")\n",
        "md5_encrypted_text = hashlib.md5(string_to_encode.encode())\n",
        "print(\"The MD5 Encrypted String of \" + string_to_encode + \" is \" + md5_encrypted_text.hexdigest())"
      ],
      "execution_count": 3,
      "outputs": [
        {
          "output_type": "stream",
          "text": [
            "Enter the String to be Encoded in MD5 Encryption:ShapeAI\n",
            "The MD5 Encrypted String of ShapeAI is 05a2faed9e25872336de734914c29ecb\n"
          ],
          "name": "stdout"
        }
      ]
    },
    {
      "cell_type": "markdown",
      "metadata": {
        "id": "TN5vFnFrppHf"
      },
      "source": [
        "**2.)GENERATING HASHES USING 3 ALGORITHMS**"
      ]
    },
    {
      "cell_type": "markdown",
      "metadata": {
        "id": "69cV2HxRBdwK"
      },
      "source": [
        "\n",
        "\n",
        "*   SHA1 Encryption\n",
        "*   BLAKE2B Encryption\n",
        "*   SHAKE256 Encryption (length must be specified in parameters)\n",
        "\n",
        "\n"
      ]
    },
    {
      "cell_type": "code",
      "metadata": {
        "colab": {
          "base_uri": "https://localhost:8080/"
        },
        "id": "H6PlmYZNo3fD",
        "outputId": "a5bf2230-b57a-4816-ef69-76c857aa61cc"
      },
      "source": [
        "string_to_encode = input(\"Enter the String to be Encoded :\")\n",
        "sha1_encrypted_text = hashlib.sha1(string_to_encode.encode())\n",
        "print(\"The SHA1 Encrypted String of \\\"\" + string_to_encode + \"\\\" is \\\"\" + sha1_encrypted_text.hexdigest() + \"\\\"\")\n",
        "blake2b_encrypted_text = hashlib.blake2b(string_to_encode.encode())\n",
        "print(\"The BLAKE2B Encrypted String of \\\"\" + string_to_encode + \"\\\" is \\\"\" + blake2b_encrypted_text.hexdigest() + \"\\\"\")\n",
        "shake256_encrypted_text = hashlib.shake_256(string_to_encode.encode())\n",
        "print(\"The SHAKE256 Encrypted String of \\\"\" + string_to_encode + \"\\\" is \\\"\" + shake256_encrypted_text.hexdigest(127) + \"\\\"\")"
      ],
      "execution_count": 4,
      "outputs": [
        {
          "output_type": "stream",
          "text": [
            "Enter the String to be Encoded :CyberSecurity\n",
            "The SHA1 Encrypted String of \"CyberSecurity\" is \"3550f04b326ba938dc4a8141d093cdb7ae8300ed\"\n",
            "The BLAKE2B Encrypted String of \"CyberSecurity\" is \"669255cdd83927c83040d7fecf36bebc650df2b2a84ce13d4b53419e55abbe8eed566fefc609224338d747816d6782f30f005819c0240ec5919935c9d7c9e456\"\n",
            "The SHAKE256 Encrypted String of \"CyberSecurity\" is \"3c2360fc2d45771ebbb3ea7d4b6917aa293f9238d008225703e375a8ca438c7d90c404d296f3741b9a096cffd405191fde51f4345db95575667e10209b5b227e81b8691fe2cbc64eac4c705d2dc02f62b7f530639d2728d6e6025faaa959489d3d406cbf73ee1882a6a9f5918349b8ffb54dab3a2cbccbfe0d28b127538d29\"\n"
          ],
          "name": "stdout"
        }
      ]
    },
    {
      "cell_type": "markdown",
      "metadata": {
        "id": "bDDMIk1ficDw"
      },
      "source": [
        "**3.) SALTING AND ITERATIONS IN THE HASHES**"
      ]
    },
    {
      "cell_type": "markdown",
      "metadata": {
        "id": "ciJddglRrzsX"
      },
      "source": [
        "**INPUT**\n",
        "\n",
        " > Reading UserName and Password from User."
      ]
    },
    {
      "cell_type": "code",
      "metadata": {
        "colab": {
          "base_uri": "https://localhost:8080/"
        },
        "id": "rJl-zakqsFXO",
        "outputId": "b0f5b331-97f3-431d-bfb6-492e1007900c"
      },
      "source": [
        "curr_user_name = input(\"Enter the UserName : \")\n",
        "curr_password = input(\"Enter the Password : \")"
      ],
      "execution_count": 5,
      "outputs": [
        {
          "output_type": "stream",
          "text": [
            "Enter the UserName : ShapeAICyberSecurityTeam\n",
            "Enter the Password : TheImitationGameDoesn'tAlwaysWork\n"
          ],
          "name": "stdout"
        }
      ]
    },
    {
      "cell_type": "markdown",
      "metadata": {
        "id": "OnfjqoFP3utB"
      },
      "source": [
        "**SALTING**\n",
        "> Salting is adding one or more character in the String to be encoded/encrpted so that Decrypters cannot backtrace the Exact String Easily\n",
        "\n",
        "> Here We add 1,2,3,4 for every 4 characters alternativelyi.e. \n",
        "\n",
        "> * The First 4 Characters get Numbered \n",
        "* The Next 4 Characters are Not\n",
        "* The Next 4 Characters get Numbered \n",
        "* The Next 4 Characters are Not\n",
        "* And So On\n",
        "\n",
        "> For Example if The String is \"ShapeAICyberSecurityTeam\"\n",
        "* The Salted Word is \"S1h2a3p4eAICy1b2e3r4Secur1i2t3y4Team\"\n",
        "\n",
        "> **Explanation**\n",
        "* S1h2a3p4\n",
        "* eAIC\n",
        "* y1b2e3r4\n",
        "* Secu\n",
        "* r1i2t3y4\n",
        "* Team"
      ]
    },
    {
      "cell_type": "code",
      "metadata": {
        "id": "BkIDg1eGibcf"
      },
      "source": [
        "def add_salt(string,index,salt):\n",
        "  return string[:index] + str(salt) + string[index:]\n",
        "\n",
        "def salting(salted_curr_string):\n",
        "  i = 0\n",
        "  n = 0\n",
        "  while(i < len(salted_curr_string)):\n",
        "    i = i + 1\n",
        "    if(i%2 == 0) : continue\n",
        "    else:\n",
        "      salted_curr_string = add_salt(salted_curr_string,i,(n%4)+1)\n",
        "      n += 1\n",
        "    if(n == 4):\n",
        "      i += 4\n",
        "      n = 0\n",
        "  return salted_curr_string"
      ],
      "execution_count": 6,
      "outputs": []
    },
    {
      "cell_type": "code",
      "metadata": {
        "id": "qvcn1MHnw4oc"
      },
      "source": [
        "salted_curr_user_name = salting(curr_user_name)\n",
        "salted_curr_password = salting(curr_password)"
      ],
      "execution_count": 7,
      "outputs": []
    },
    {
      "cell_type": "markdown",
      "metadata": {
        "id": "-lPbuEgV9rsZ"
      },
      "source": [
        "**ITERATIONS**\n",
        "> * Iterations are iterating Encryption algorithm again and again.\n",
        "* The Basic Concept is that (Instead of Encrypting Just Once) the String is  Encrypted N Times So that the Probability of Decrypters Finding the Exact String Becomes Smaller.\n",
        "* i.e. We Encrypt the String 1st Time by Some Algorithm (say MD5)\n",
        "* Then We Encrypt the Encypted String after 1st Time Again 2nd Time by Some Algorithm(say MD5)\n",
        "* Similarly The Encrypted String of Previous Time is Encrypted Once Again N times.\n",
        "\n",
        "> Here We are going to use MD5 4 Times.\n",
        "> For E.g "
      ]
    },
    {
      "cell_type": "code",
      "metadata": {
        "id": "1xAoTPEII2Iq"
      },
      "source": [
        "def encrypt(string_to_encode):\n",
        "  return str((hashlib.md5(string_to_encode.encode())).hexdigest())\n",
        "def Iteration(string):\n",
        "  for i in range(4):\n",
        "    string = encrypt(string)\n",
        "  return string"
      ],
      "execution_count": 8,
      "outputs": []
    },
    {
      "cell_type": "code",
      "metadata": {
        "id": "ZhTnGXNyvN8Q"
      },
      "source": [
        "encrypted_curr_user_name = Iteration(salted_curr_user_name)\n",
        "encrypted_curr_password = Iteration(salted_curr_password)"
      ],
      "execution_count": 9,
      "outputs": []
    },
    {
      "cell_type": "markdown",
      "metadata": {
        "id": "5NRRATRpkO5u"
      },
      "source": [
        "**PRINTING OUTPUT**\n",
        "> * The Encrypted String is validated with the UserName stored in program and Credentials are verified.\n",
        "\n",
        "> **USERNAME = 86ac1691ca539d0cbbc0211cd17cc01e**\n",
        "* Before Starting      - ShapeAICyberSecurityTeam\n",
        "* After Salting        - S1h2a3p4eAICy1b2e3r4Secur1i2t3y4Team\n",
        "* After 1st Encryption - da99ed20ca58af2a5cf9058ae0cae188\n",
        "* After 2nd Encryption - 137395446e0fdf1977254e682c0812ef\n",
        "* After 3rd Encryption - d5de2f86c789dcba2fe8aaeffd3e0dce\n",
        "* After 4th Encryption - 86ac1691ca539d0cbbc0211cd17cc01e\n",
        "\n",
        "> **Password = ab2e127394855c5deed3955d1281f65d**\n",
        "* Before Starting      - TheImitationGameDoesn'tAlwaysWork\n",
        "* After Salting        - T1h2e3I4mitat1i2o3n4GameD1o2e3s4n'tAl1w2a3y4sWork1\n",
        "* After 1st Encryption - 5f1f404d5e2edb41708d8b6d1c9d3a88\n",
        "* After 2nd Encryption - 55c8bf98e2098aef69dd4dfad9894932\n",
        "* After 3rd Encryption - 741b03833037151a92001ddd62c71710\n",
        "* After 4th Encryption - ab2e127394855c5deed3955d1281f65d"
      ]
    },
    {
      "cell_type": "markdown",
      "metadata": {
        "id": "EogyVm3XwO-B"
      },
      "source": [
        "> The Encrypted String can be obtained by the following code also:"
      ]
    },
    {
      "cell_type": "code",
      "metadata": {
        "colab": {
          "base_uri": "https://localhost:8080/"
        },
        "id": "CctEW0e8wUPX",
        "outputId": "4fe4435b-a8d5-4cd7-ceb0-51a78990c1ce"
      },
      "source": [
        "print(Iteration(salting(\"ShapeAICyberSecurityTeam\")))\n",
        "print(Iteration(salting(\"TheImitationGameDoesn'tAlwaysWork\")))"
      ],
      "execution_count": 10,
      "outputs": [
        {
          "output_type": "stream",
          "text": [
            "86ac1691ca539d0cbbc0211cd17cc01e\n",
            "ab2e127394855c5deed3955d1281f65d\n"
          ],
          "name": "stdout"
        }
      ]
    },
    {
      "cell_type": "code",
      "metadata": {
        "colab": {
          "base_uri": "https://localhost:8080/"
        },
        "id": "8NL8YMcTkIrn",
        "outputId": "571d57df-3df7-4e0b-daac-fc460a75fb9e"
      },
      "source": [
        "sample_correct_user_name = \"86ac1691ca539d0cbbc0211cd17cc01e\"\n",
        "sample_correct_password = \"ab2e127394855c5deed3955d1281f65d\"\n",
        "if(encrypted_curr_user_name == sample_correct_user_name and encrypted_curr_password == sample_correct_password):\n",
        "  print(\"You are Authorised.\")\n",
        "else:\n",
        "  print(\"!!!!! Invalid UserName or Password !!!!!\")"
      ],
      "execution_count": 11,
      "outputs": [
        {
          "output_type": "stream",
          "text": [
            "You are Authorised.\n"
          ],
          "name": "stdout"
        }
      ]
    }
  ]
}